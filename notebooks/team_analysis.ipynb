{
 "cells": [
  {
   "cell_type": "markdown",
   "metadata": {},
   "source": [
    "# SVリーグ男子バレーボール優勝決定戦データ分析\n",
    "\n",
    "このノートブックでは、SVリーグ男子の2024-2025シーズンの選手データを分析し、優勝決定戦のサントリーサンバーズ大阪とジェイテクトSTINGS愛知の両チームを比較します。"
   ]
  },
  {
   "cell_type": "code",
   "execution_count": null,
   "metadata": {},
   "outputs": [],
   "source": [
    "# 必要なライブラリのインポート\n",
    "import pandas as pd\n",
    "import numpy as np\n",
    "import matplotlib.pyplot as plt\n",
    "import seaborn as sns\n",
    "import japanize_matplotlib  # 日本語表示用\n",
    "\n",
    "# グラフ設定\n",
    "plt.rcParams['figure.figsize'] = (12, 8)\n",
    "plt.style.use('ggplot')"
   ]
  }
 ],
 "metadata": {
  "kernelspec": {
   "display_name": "svleague_analysis",
   "language": "python",
   "name": "python3"
  },
  "language_info": {
   "codemirror_mode": {
    "name": "ipython",
    "version": 3
   },
   "file_extension": ".py",
   "mimetype": "text/x-python",
   "name": "python",
   "nbconvert_exporter": "python",
   "pygments_lexer": "ipython3",
   "version": "3.13.3"
  }
 },
 "nbformat": 4,
 "nbformat_minor": 4
}
